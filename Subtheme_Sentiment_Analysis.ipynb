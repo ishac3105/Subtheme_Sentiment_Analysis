{
 "cells": [
  {
   "cell_type": "markdown",
   "id": "326b18b0",
   "metadata": {},
   "source": [
    "## Import Libraries"
   ]
  },
  {
   "cell_type": "code",
   "execution_count": 45,
   "id": "663ded50",
   "metadata": {},
   "outputs": [
    {
     "name": "stderr",
     "output_type": "stream",
     "text": [
      "[nltk_data] Downloading package stopwords to\n",
      "[nltk_data]     C:\\Users\\ishac\\AppData\\Roaming\\nltk_data...\n",
      "[nltk_data]   Package stopwords is already up-to-date!\n",
      "[nltk_data] Downloading package names to\n",
      "[nltk_data]     C:\\Users\\ishac\\AppData\\Roaming\\nltk_data...\n",
      "[nltk_data]   Package names is already up-to-date!\n",
      "[nltk_data] Downloading package punkt to\n",
      "[nltk_data]     C:\\Users\\ishac\\AppData\\Roaming\\nltk_data...\n",
      "[nltk_data]   Package punkt is already up-to-date!\n",
      "[nltk_data] Downloading package averaged_perceptron_tagger to\n",
      "[nltk_data]     C:\\Users\\ishac\\AppData\\Roaming\\nltk_data...\n",
      "[nltk_data]   Package averaged_perceptron_tagger is already up-to-\n",
      "[nltk_data]       date!\n"
     ]
    },
    {
     "data": {
      "text/plain": [
       "True"
      ]
     },
     "execution_count": 45,
     "metadata": {},
     "output_type": "execute_result"
    }
   ],
   "source": [
    "import pandas as pd\n",
    "import numpy as np\n",
    "import re\n",
    "from collections import defaultdict, Counter\n",
    "import nltk\n",
    "nltk.download('stopwords')\n",
    "nltk.download('names')\n",
    "nltk.download('punkt')\n",
    "nltk.download('averaged_perceptron_tagger')\n"
   ]
  },
  {
   "cell_type": "markdown",
   "id": "b842fd64",
   "metadata": {},
   "source": [
    "## Load Dataset"
   ]
  },
  {
   "cell_type": "code",
   "execution_count": 20,
   "id": "e8ef6889",
   "metadata": {},
   "outputs": [
    {
     "data": {
      "text/html": [
       "<div>\n",
       "<style scoped>\n",
       "    .dataframe tbody tr th:only-of-type {\n",
       "        vertical-align: middle;\n",
       "    }\n",
       "\n",
       "    .dataframe tbody tr th {\n",
       "        vertical-align: top;\n",
       "    }\n",
       "\n",
       "    .dataframe thead th {\n",
       "        text-align: right;\n",
       "    }\n",
       "</style>\n",
       "<table border=\"1\" class=\"dataframe\">\n",
       "  <thead>\n",
       "    <tr style=\"text-align: right;\">\n",
       "      <th></th>\n",
       "      <th>0</th>\n",
       "      <th>1</th>\n",
       "      <th>2</th>\n",
       "      <th>3</th>\n",
       "      <th>4</th>\n",
       "      <th>5</th>\n",
       "      <th>6</th>\n",
       "      <th>7</th>\n",
       "      <th>8</th>\n",
       "      <th>9</th>\n",
       "      <th>10</th>\n",
       "      <th>11</th>\n",
       "      <th>12</th>\n",
       "      <th>13</th>\n",
       "      <th>14</th>\n",
       "    </tr>\n",
       "  </thead>\n",
       "  <tbody>\n",
       "    <tr>\n",
       "      <th>0</th>\n",
       "      <td>Tires where delivered to the garage of my choi...</td>\n",
       "      <td>garage service positive</td>\n",
       "      <td>ease of booking positive</td>\n",
       "      <td>NaN</td>\n",
       "      <td>NaN</td>\n",
       "      <td>NaN</td>\n",
       "      <td>NaN</td>\n",
       "      <td>NaN</td>\n",
       "      <td>NaN</td>\n",
       "      <td>NaN</td>\n",
       "      <td>NaN</td>\n",
       "      <td>NaN</td>\n",
       "      <td>NaN</td>\n",
       "      <td>NaN</td>\n",
       "      <td>NaN</td>\n",
       "    </tr>\n",
       "    <tr>\n",
       "      <th>1</th>\n",
       "      <td>Easy Tyre Selection Process, Competitive Prici...</td>\n",
       "      <td>garage service positive</td>\n",
       "      <td>value for money positive</td>\n",
       "      <td>NaN</td>\n",
       "      <td>NaN</td>\n",
       "      <td>NaN</td>\n",
       "      <td>NaN</td>\n",
       "      <td>NaN</td>\n",
       "      <td>NaN</td>\n",
       "      <td>NaN</td>\n",
       "      <td>NaN</td>\n",
       "      <td>NaN</td>\n",
       "      <td>NaN</td>\n",
       "      <td>NaN</td>\n",
       "      <td>NaN</td>\n",
       "    </tr>\n",
       "    <tr>\n",
       "      <th>2</th>\n",
       "      <td>Very easy to use and good value for money.</td>\n",
       "      <td>value for money positive</td>\n",
       "      <td>NaN</td>\n",
       "      <td>NaN</td>\n",
       "      <td>NaN</td>\n",
       "      <td>NaN</td>\n",
       "      <td>NaN</td>\n",
       "      <td>NaN</td>\n",
       "      <td>NaN</td>\n",
       "      <td>NaN</td>\n",
       "      <td>NaN</td>\n",
       "      <td>NaN</td>\n",
       "      <td>NaN</td>\n",
       "      <td>NaN</td>\n",
       "      <td>NaN</td>\n",
       "    </tr>\n",
       "    <tr>\n",
       "      <th>3</th>\n",
       "      <td>Really easy and convenient to arrange</td>\n",
       "      <td>ease of booking positive</td>\n",
       "      <td>NaN</td>\n",
       "      <td>NaN</td>\n",
       "      <td>NaN</td>\n",
       "      <td>NaN</td>\n",
       "      <td>NaN</td>\n",
       "      <td>NaN</td>\n",
       "      <td>NaN</td>\n",
       "      <td>NaN</td>\n",
       "      <td>NaN</td>\n",
       "      <td>NaN</td>\n",
       "      <td>NaN</td>\n",
       "      <td>NaN</td>\n",
       "      <td>NaN</td>\n",
       "    </tr>\n",
       "    <tr>\n",
       "      <th>4</th>\n",
       "      <td>It was so easy to select tyre sizes and arrang...</td>\n",
       "      <td>location positive</td>\n",
       "      <td>value for money positive</td>\n",
       "      <td>ease of booking positive</td>\n",
       "      <td>NaN</td>\n",
       "      <td>NaN</td>\n",
       "      <td>NaN</td>\n",
       "      <td>NaN</td>\n",
       "      <td>NaN</td>\n",
       "      <td>NaN</td>\n",
       "      <td>NaN</td>\n",
       "      <td>NaN</td>\n",
       "      <td>NaN</td>\n",
       "      <td>NaN</td>\n",
       "      <td>NaN</td>\n",
       "    </tr>\n",
       "    <tr>\n",
       "      <th>...</th>\n",
       "      <td>...</td>\n",
       "      <td>...</td>\n",
       "      <td>...</td>\n",
       "      <td>...</td>\n",
       "      <td>...</td>\n",
       "      <td>...</td>\n",
       "      <td>...</td>\n",
       "      <td>...</td>\n",
       "      <td>...</td>\n",
       "      <td>...</td>\n",
       "      <td>...</td>\n",
       "      <td>...</td>\n",
       "      <td>...</td>\n",
       "      <td>...</td>\n",
       "      <td>...</td>\n",
       "    </tr>\n",
       "    <tr>\n",
       "      <th>10127</th>\n",
       "      <td>I ordered the wrong tyres, however [REDACTED] ...</td>\n",
       "      <td>refund positive</td>\n",
       "      <td>delivery punctuality positive</td>\n",
       "      <td>refund timescale positive</td>\n",
       "      <td>NaN</td>\n",
       "      <td>NaN</td>\n",
       "      <td>NaN</td>\n",
       "      <td>NaN</td>\n",
       "      <td>NaN</td>\n",
       "      <td>NaN</td>\n",
       "      <td>NaN</td>\n",
       "      <td>NaN</td>\n",
       "      <td>NaN</td>\n",
       "      <td>NaN</td>\n",
       "      <td>NaN</td>\n",
       "    </tr>\n",
       "    <tr>\n",
       "      <th>10128</th>\n",
       "      <td>Good experience, first time I have used [REDAC...</td>\n",
       "      <td>length of fitting positive</td>\n",
       "      <td>NaN</td>\n",
       "      <td>NaN</td>\n",
       "      <td>NaN</td>\n",
       "      <td>NaN</td>\n",
       "      <td>NaN</td>\n",
       "      <td>NaN</td>\n",
       "      <td>NaN</td>\n",
       "      <td>NaN</td>\n",
       "      <td>NaN</td>\n",
       "      <td>NaN</td>\n",
       "      <td>NaN</td>\n",
       "      <td>NaN</td>\n",
       "      <td>NaN</td>\n",
       "    </tr>\n",
       "    <tr>\n",
       "      <th>10129</th>\n",
       "      <td>I ordered the tyre I needed on line, booked a ...</td>\n",
       "      <td>location positive</td>\n",
       "      <td>delivery punctuality positive</td>\n",
       "      <td>length of fitting positive</td>\n",
       "      <td>value for money positive</td>\n",
       "      <td>NaN</td>\n",
       "      <td>NaN</td>\n",
       "      <td>NaN</td>\n",
       "      <td>NaN</td>\n",
       "      <td>NaN</td>\n",
       "      <td>NaN</td>\n",
       "      <td>NaN</td>\n",
       "      <td>NaN</td>\n",
       "      <td>NaN</td>\n",
       "      <td>NaN</td>\n",
       "    </tr>\n",
       "    <tr>\n",
       "      <th>10130</th>\n",
       "      <td>Excellent service from point of order to fitti...</td>\n",
       "      <td>NaN</td>\n",
       "      <td>NaN</td>\n",
       "      <td>NaN</td>\n",
       "      <td>NaN</td>\n",
       "      <td>NaN</td>\n",
       "      <td>NaN</td>\n",
       "      <td>NaN</td>\n",
       "      <td>NaN</td>\n",
       "      <td>NaN</td>\n",
       "      <td>NaN</td>\n",
       "      <td>NaN</td>\n",
       "      <td>NaN</td>\n",
       "      <td>NaN</td>\n",
       "      <td>NaN</td>\n",
       "    </tr>\n",
       "    <tr>\n",
       "      <th>10131</th>\n",
       "      <td>Seamless, well managed at both ends. I would r...</td>\n",
       "      <td>NaN</td>\n",
       "      <td>NaN</td>\n",
       "      <td>NaN</td>\n",
       "      <td>NaN</td>\n",
       "      <td>NaN</td>\n",
       "      <td>NaN</td>\n",
       "      <td>NaN</td>\n",
       "      <td>NaN</td>\n",
       "      <td>NaN</td>\n",
       "      <td>NaN</td>\n",
       "      <td>NaN</td>\n",
       "      <td>NaN</td>\n",
       "      <td>NaN</td>\n",
       "      <td>NaN</td>\n",
       "    </tr>\n",
       "  </tbody>\n",
       "</table>\n",
       "<p>10132 rows × 15 columns</p>\n",
       "</div>"
      ],
      "text/plain": [
       "                                                      0   \\\n",
       "0      Tires where delivered to the garage of my choi...   \n",
       "1      Easy Tyre Selection Process, Competitive Prici...   \n",
       "2             Very easy to use and good value for money.   \n",
       "3                  Really easy and convenient to arrange   \n",
       "4      It was so easy to select tyre sizes and arrang...   \n",
       "...                                                  ...   \n",
       "10127  I ordered the wrong tyres, however [REDACTED] ...   \n",
       "10128  Good experience, first time I have used [REDAC...   \n",
       "10129  I ordered the tyre I needed on line, booked a ...   \n",
       "10130  Excellent service from point of order to fitti...   \n",
       "10131  Seamless, well managed at both ends. I would r...   \n",
       "\n",
       "                               1                              2   \\\n",
       "0         garage service positive       ease of booking positive   \n",
       "1         garage service positive       value for money positive   \n",
       "2        value for money positive                            NaN   \n",
       "3        ease of booking positive                            NaN   \n",
       "4               location positive       value for money positive   \n",
       "...                           ...                            ...   \n",
       "10127             refund positive  delivery punctuality positive   \n",
       "10128  length of fitting positive                            NaN   \n",
       "10129           location positive  delivery punctuality positive   \n",
       "10130                         NaN                            NaN   \n",
       "10131                         NaN                            NaN   \n",
       "\n",
       "                               3                         4    5    6    7   \\\n",
       "0                             NaN                       NaN  NaN  NaN  NaN   \n",
       "1                             NaN                       NaN  NaN  NaN  NaN   \n",
       "2                             NaN                       NaN  NaN  NaN  NaN   \n",
       "3                             NaN                       NaN  NaN  NaN  NaN   \n",
       "4        ease of booking positive                       NaN  NaN  NaN  NaN   \n",
       "...                           ...                       ...  ...  ...  ...   \n",
       "10127   refund timescale positive                       NaN  NaN  NaN  NaN   \n",
       "10128                         NaN                       NaN  NaN  NaN  NaN   \n",
       "10129  length of fitting positive  value for money positive  NaN  NaN  NaN   \n",
       "10130                         NaN                       NaN  NaN  NaN  NaN   \n",
       "10131                         NaN                       NaN  NaN  NaN  NaN   \n",
       "\n",
       "        8    9    10   11   12   13   14  \n",
       "0      NaN  NaN  NaN  NaN  NaN  NaN  NaN  \n",
       "1      NaN  NaN  NaN  NaN  NaN  NaN  NaN  \n",
       "2      NaN  NaN  NaN  NaN  NaN  NaN  NaN  \n",
       "3      NaN  NaN  NaN  NaN  NaN  NaN  NaN  \n",
       "4      NaN  NaN  NaN  NaN  NaN  NaN  NaN  \n",
       "...    ...  ...  ...  ...  ...  ...  ...  \n",
       "10127  NaN  NaN  NaN  NaN  NaN  NaN  NaN  \n",
       "10128  NaN  NaN  NaN  NaN  NaN  NaN  NaN  \n",
       "10129  NaN  NaN  NaN  NaN  NaN  NaN  NaN  \n",
       "10130  NaN  NaN  NaN  NaN  NaN  NaN  NaN  \n",
       "10131  NaN  NaN  NaN  NaN  NaN  NaN  NaN  \n",
       "\n",
       "[10132 rows x 15 columns]"
      ]
     },
     "execution_count": 20,
     "metadata": {},
     "output_type": "execute_result"
    }
   ],
   "source": [
    "ds = pd.read_csv(\"C:/Users/ishac/Downloads/Evaluation-dataset.csv\",  quoting=0, header=None)\n",
    "ds"
   ]
  },
  {
   "cell_type": "markdown",
   "id": "60e88aaa",
   "metadata": {},
   "source": [
    "## User Input"
   ]
  },
  {
   "cell_type": "code",
   "execution_count": 47,
   "id": "8bd12ad5",
   "metadata": {},
   "outputs": [
    {
     "name": "stdout",
     "output_type": "stream",
     "text": [
      "enter no of row rangeing from 1 - 10132(: 6\n",
      "[\"service was excellent. Only slight downside was not knowing exact time at garage although the garage were so quick so I wasn't delayed\"]\n"
     ]
    }
   ],
   "source": [
    "ab = ds.iloc[0:,0:1]\n",
    "ab = np.array(ab)\n",
    "size = ds.shape\n",
    "size = size[0]\n",
    "row = int(input(f\"enter no of row rangeing from 1 - {size}(: \"))\n",
    "row = ab[row-1]\n",
    "print(row)\n",
    "review=str(row)"
   ]
  },
  {
   "cell_type": "markdown",
   "id": "f48499f3",
   "metadata": {},
   "source": [
    "## Aspect & Problem"
   ]
  },
  {
   "cell_type": "code",
   "execution_count": 48,
   "id": "ee406fb2",
   "metadata": {},
   "outputs": [],
   "source": [
    "aspects = ['garage service', 'wait time', 'booking', 'value', 'money']\n",
    "problems = ['incorrect', 'missing', 'delay', 'changed']"
   ]
  },
  {
   "cell_type": "markdown",
   "id": "997b7558",
   "metadata": {},
   "source": [
    "## Data Preprocessing"
   ]
  },
  {
   "cell_type": "code",
   "execution_count": 49,
   "id": "04759abb",
   "metadata": {},
   "outputs": [],
   "source": [
    "def preprocess_text(text):\n",
    "    text = text.lower()\n",
    "    text = re.sub(r'[^a-z\\s]', '', text)\n",
    "    return text"
   ]
  },
  {
   "cell_type": "markdown",
   "id": "79b92e1a",
   "metadata": {},
   "source": [
    "## Tokenization"
   ]
  },
  {
   "cell_type": "code",
   "execution_count": 50,
   "id": "18efda9e",
   "metadata": {},
   "outputs": [],
   "source": [
    "def tokenize_text(text):\n",
    "    return text.split()\n"
   ]
  },
  {
   "cell_type": "markdown",
   "id": "83e20f27",
   "metadata": {},
   "source": [
    "## Aspect Extraction & Filtering Unwanted Words"
   ]
  },
  {
   "cell_type": "code",
   "execution_count": 51,
   "id": "d99a3cbc",
   "metadata": {},
   "outputs": [],
   "source": [
    "def extract_aspects_sentiments(review):\n",
    "    processed_text = preprocess_text(review)\n",
    "    tokens = tokenize_text(processed_text)\n",
    "    aspects_sentiments = defaultdict(list)\n",
    "   \n",
    "    unwanted = nltk.corpus.stopwords.words(\"english\")\n",
    "    unwanted.extend([w.lower() for w in nltk.corpus.names.words()])\n",
    "  \n",
    "    def skip_unwanted(pos_tuple):\n",
    "        word, tag = pos_tuple\n",
    "        if not word.isalpha() or word in unwanted:\n",
    "            return False\n",
    "        if tag.startswith(\"NN\"):\n",
    "            return False\n",
    "        return True\n",
    "    \n",
    "    positive_words = [word for word, tag in filter(\n",
    "        skip_unwanted,\n",
    "        nltk.pos_tag(nltk.corpus.movie_reviews.words(categories=[\"pos\"]))\n",
    "    )]\n",
    "    negative_words = [word for word, tag in filter(\n",
    "        skip_unwanted,\n",
    "        nltk.pos_tag(nltk.corpus.movie_reviews.words(categories=[\"neg\"]))\n",
    "    )]\n",
    "    \n",
    "    # Lexicon-based approach for sentiment analysis\n",
    "    positive_words = nltk.FreqDist(positive_words)\n",
    "    negative_words = nltk.FreqDist(negative_words)\n",
    "   \n",
    "    for aspect in aspects:\n",
    "        \n",
    "        if any(word in processed_text for word in aspect.split()):\n",
    "            \n",
    "            sentiment = \"neutral\"\n",
    "       \n",
    "            for token in tokens:\n",
    "                if token in positive_words:\n",
    "                    sentiment = \"positive\"\n",
    "                elif token in negative_words:\n",
    "                    sentiment = \"negative\"\n",
    "            aspects_sentiments[aspect].append(sentiment)\n",
    "    \n",
    "    return aspects_sentiments"
   ]
  },
  {
   "cell_type": "markdown",
   "id": "0c7438ab",
   "metadata": {},
   "source": [
    "## Extracting Aspects and Sentiments from a Review"
   ]
  },
  {
   "cell_type": "code",
   "execution_count": 52,
   "id": "b4e154c2",
   "metadata": {},
   "outputs": [],
   "source": [
    "aspects_sentiments = extract_aspects_sentiments(review)"
   ]
  },
  {
   "cell_type": "markdown",
   "id": "dc3449cb",
   "metadata": {},
   "source": [
    "## Summarizing Aspect Sentiments from Reviews"
   ]
  },
  {
   "cell_type": "code",
   "execution_count": 53,
   "id": "94c6c45c",
   "metadata": {},
   "outputs": [],
   "source": [
    "results = []\n",
    "for aspect, sentiments in aspects_sentiments.items():\n",
    "    sentiment_count = Counter(sentiments)\n",
    "    final_sentiment = \"negative\" if aspect in problems else \"positive\" if sentiment_count['positive'] > sentiment_count['negative'] else \"negative\"\n",
    "    results.append(f\"{aspect} {final_sentiment}\")\n"
   ]
  },
  {
   "cell_type": "markdown",
   "id": "8d3d106f",
   "metadata": {},
   "source": [
    "## Result"
   ]
  },
  {
   "cell_type": "code",
   "execution_count": 54,
   "id": "a77eac58",
   "metadata": {},
   "outputs": [
    {
     "name": "stdout",
     "output_type": "stream",
     "text": [
      "Subtheme Sentiments:\n",
      "garage service positive\n",
      "wait time positive\n"
     ]
    }
   ],
   "source": [
    "print(\"Subtheme Sentiments:\")\n",
    "print(\"\\n\".join(results))"
   ]
  },
  {
   "cell_type": "code",
   "execution_count": null,
   "id": "fc44ce44",
   "metadata": {},
   "outputs": [],
   "source": []
  }
 ],
 "metadata": {
  "kernelspec": {
   "display_name": "Python 3 (ipykernel)",
   "language": "python",
   "name": "python3"
  },
  "language_info": {
   "codemirror_mode": {
    "name": "ipython",
    "version": 3
   },
   "file_extension": ".py",
   "mimetype": "text/x-python",
   "name": "python",
   "nbconvert_exporter": "python",
   "pygments_lexer": "ipython3",
   "version": "3.9.7"
  }
 },
 "nbformat": 4,
 "nbformat_minor": 5
}
